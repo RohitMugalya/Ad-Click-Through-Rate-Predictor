{
 "cells": [
  {
   "cell_type": "code",
   "execution_count": 15,
   "id": "b316c91e",
   "metadata": {},
   "outputs": [],
   "source": [
    "import pandas as pd\n",
    "import matplotlib.pyplot as plt\n",
    "import seaborn as sns\n",
    "import plotly.express as px\n",
    "import plotly.io as pio\n",
    "\n",
    "plt.style.use('dark_background')\n",
    "pio.templates.default = \"plotly_dark\""
   ]
  },
  {
   "cell_type": "code",
   "execution_count": 27,
   "id": "3ec22fb7",
   "metadata": {},
   "outputs": [],
   "source": [
    "df = pd.read_csv(\"advertising_fixed.csv\")"
   ]
  },
  {
   "cell_type": "code",
   "execution_count": 28,
   "id": "ad272cb3",
   "metadata": {},
   "outputs": [
    {
     "data": {
      "application/vnd.plotly.v1+json": {
       "config": {
        "plotlyServerURL": "https://plot.ly"
       },
       "data": [
        {
         "hovertemplate": "Clicked on Ad=%{marker.color}<br>Daily Time Spent on Site=%{x}<br>Daily Internet Usage=%{y}<extra></extra>",
         "legendgroup": "1",
         "marker": {
          "color": {
           "bdata": "AQEBAQEBAQEBAQEBAQEBAQEBAQEBAQEBAQEBAQEBAQEBAQEBAQEBAQEBAQEBAQEBAQEBAQEBAQEBAQEBAQEBAQEBAQEBAQEBAQEBAQEBAQEBAQEBAQEBAQEBAQEBAQEBAQEBAQEBAQEBAQEBAQEBAQEBAQEBAQEBAQEBAQEBAQEBAQEBAQEBAQEBAQEBAQEBAQEBAQEBAQEBAQEBAQEBAQEBAQEBAQEBAQEBAQEBAQEBAQEBAQEBAQEBAQEBAQEBAQEBAQEBAQEBAQEBAQEBAQEBAQEBAQEBAQEBAQEBAQEBAQEBAQEBAQEBAQEBAQEBAQEBAQEBAQEBAQEBAQEBAQEBAQEBAQEBAQEBAQEBAQEBAQEBAQEBAQEBAQEBAQEBAQEBAQEBAQEBAQEBAQEBAQEBAQEBAQEBAQEBAQEBAQEBAQEBAQEBAQEBAQEBAQEBAQEBAQEBAQEBAQEBAQEBAQEBAQEBAQEBAQEBAQEBAQEBAQEBAQEBAQEBAQEBAQEBAQEBAQEBAQEBAQEBAQEBAQEBAQEBAQEBAQEBAQEBAQEBAQEBAQEBAQEBAQEBAQEBAQEBAQEBAQEBAQEBAQEBAQEBAQEBAQEBAQEBAQEBAQEBAQEBAQEBAQEBAQEBAQEBAQEBAQEBAQEBAQEBAQEBAQEBAQE=",
           "dtype": "i1"
          },
          "coloraxis": "coloraxis",
          "symbol": "circle"
         },
         "mode": "markers",
         "name": "1",
         "orientation": "v",
         "showlegend": true,
         "type": "scatter",
         "x": {
          "bdata": "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",
          "dtype": "f8"
         },
         "xaxis": "x",
         "y": {
          "bdata": "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",
          "dtype": "f8"
         },
         "yaxis": "y"
        },
        {
         "hovertemplate": "Clicked on Ad=%{marker.color}<br>Daily Time Spent on Site=%{x}<br>Daily Internet Usage=%{y}<extra></extra>",
         "legendgroup": "0",
         "marker": {
          "color": {
           "bdata": "AAAAAAAAAAAAAAAAAAAAAAAAAAAAAAAAAAAAAAAAAAAAAAAAAAAAAAAAAAAAAAAAAAAAAAAAAAAAAAAAAAAAAAAAAAAAAAAAAAAAAAAAAAAAAAAAAAAAAAAAAAAAAAAAAAAAAAAAAAAAAAAAAAAAAAAAAAAAAAAAAAAAAAAAAAAAAAAAAAAAAAAAAAAAAAAAAAAAAAAAAAAAAAAAAAAAAAAAAAAAAAAAAAAAAAAAAAAAAAAAAAAAAAAAAAAAAAAAAAAAAAAAAAAAAAAAAAAAAAAAAAAAAAAAAAAAAAAAAAAAAAAAAAAAAAAAAAAAAAAAAAAAAAAAAAAAAAAAAAAAAAAAAAAAAAAAAAAAAAAAAAAAAAAAAAAAAAAAAAAAAAAAAAAAAAAAAAAAAAAAAAAAAAAAAAAAAAAAAAAAAAAAAAAAAAAAAAAAAAAAAAAAAAAAAAAAAAAAAAAAAAAAAAAAAAAAAAAAAAAAAAAAAAAAAAAAAAAAAAAAAAAAAAAAAAAAAAAAAAAAAAAAAAAAAAAAAAAAAAAAAAAAAAAAAAAAAAAAAAAAAAAAAAAAAAAAAAAAAAAAAAAAAAAAAAAAAAAAAAAAAAAAAAAAAAAAAAAAAAAAAAAAAAAAAAAAAAAAAAAAAAAAAAAAAAAAAAAAAAAAAAAAAAA=",
           "dtype": "i1"
          },
          "coloraxis": "coloraxis",
          "symbol": "diamond"
         },
         "mode": "markers",
         "name": "0",
         "orientation": "v",
         "showlegend": true,
         "type": "scatter",
         "x": {
          "bdata": "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",
          "dtype": "f8"
         },
         "xaxis": "x",
         "y": {
          "bdata": "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",
          "dtype": "f8"
         },
         "yaxis": "y"
        }
       ],
       "layout": {
        "coloraxis": {
         "colorbar": {
          "title": {
           "text": "Clicked on Ad"
          }
         },
         "colorscale": [
          [
           0,
           "blue"
          ],
          [
           1,
           "white"
          ]
         ]
        },
        "height": 800,
        "legend": {
         "title": {
          "text": "Clicked on Ad"
         },
         "tracegroupgap": 0
        },
        "template": {
         "data": {
          "bar": [
           {
            "error_x": {
             "color": "#f2f5fa"
            },
            "error_y": {
             "color": "#f2f5fa"
            },
            "marker": {
             "line": {
              "color": "rgb(17,17,17)",
              "width": 0.5
             },
             "pattern": {
              "fillmode": "overlay",
              "size": 10,
              "solidity": 0.2
             }
            },
            "type": "bar"
           }
          ],
          "barpolar": [
           {
            "marker": {
             "line": {
              "color": "rgb(17,17,17)",
              "width": 0.5
             },
             "pattern": {
              "fillmode": "overlay",
              "size": 10,
              "solidity": 0.2
             }
            },
            "type": "barpolar"
           }
          ],
          "carpet": [
           {
            "aaxis": {
             "endlinecolor": "#A2B1C6",
             "gridcolor": "#506784",
             "linecolor": "#506784",
             "minorgridcolor": "#506784",
             "startlinecolor": "#A2B1C6"
            },
            "baxis": {
             "endlinecolor": "#A2B1C6",
             "gridcolor": "#506784",
             "linecolor": "#506784",
             "minorgridcolor": "#506784",
             "startlinecolor": "#A2B1C6"
            },
            "type": "carpet"
           }
          ],
          "choropleth": [
           {
            "colorbar": {
             "outlinewidth": 0,
             "ticks": ""
            },
            "type": "choropleth"
           }
          ],
          "contour": [
           {
            "colorbar": {
             "outlinewidth": 0,
             "ticks": ""
            },
            "colorscale": [
             [
              0,
              "#0d0887"
             ],
             [
              0.1111111111111111,
              "#46039f"
             ],
             [
              0.2222222222222222,
              "#7201a8"
             ],
             [
              0.3333333333333333,
              "#9c179e"
             ],
             [
              0.4444444444444444,
              "#bd3786"
             ],
             [
              0.5555555555555556,
              "#d8576b"
             ],
             [
              0.6666666666666666,
              "#ed7953"
             ],
             [
              0.7777777777777778,
              "#fb9f3a"
             ],
             [
              0.8888888888888888,
              "#fdca26"
             ],
             [
              1,
              "#f0f921"
             ]
            ],
            "type": "contour"
           }
          ],
          "contourcarpet": [
           {
            "colorbar": {
             "outlinewidth": 0,
             "ticks": ""
            },
            "type": "contourcarpet"
           }
          ],
          "heatmap": [
           {
            "colorbar": {
             "outlinewidth": 0,
             "ticks": ""
            },
            "colorscale": [
             [
              0,
              "#0d0887"
             ],
             [
              0.1111111111111111,
              "#46039f"
             ],
             [
              0.2222222222222222,
              "#7201a8"
             ],
             [
              0.3333333333333333,
              "#9c179e"
             ],
             [
              0.4444444444444444,
              "#bd3786"
             ],
             [
              0.5555555555555556,
              "#d8576b"
             ],
             [
              0.6666666666666666,
              "#ed7953"
             ],
             [
              0.7777777777777778,
              "#fb9f3a"
             ],
             [
              0.8888888888888888,
              "#fdca26"
             ],
             [
              1,
              "#f0f921"
             ]
            ],
            "type": "heatmap"
           }
          ],
          "histogram": [
           {
            "marker": {
             "pattern": {
              "fillmode": "overlay",
              "size": 10,
              "solidity": 0.2
             }
            },
            "type": "histogram"
           }
          ],
          "histogram2d": [
           {
            "colorbar": {
             "outlinewidth": 0,
             "ticks": ""
            },
            "colorscale": [
             [
              0,
              "#0d0887"
             ],
             [
              0.1111111111111111,
              "#46039f"
             ],
             [
              0.2222222222222222,
              "#7201a8"
             ],
             [
              0.3333333333333333,
              "#9c179e"
             ],
             [
              0.4444444444444444,
              "#bd3786"
             ],
             [
              0.5555555555555556,
              "#d8576b"
             ],
             [
              0.6666666666666666,
              "#ed7953"
             ],
             [
              0.7777777777777778,
              "#fb9f3a"
             ],
             [
              0.8888888888888888,
              "#fdca26"
             ],
             [
              1,
              "#f0f921"
             ]
            ],
            "type": "histogram2d"
           }
          ],
          "histogram2dcontour": [
           {
            "colorbar": {
             "outlinewidth": 0,
             "ticks": ""
            },
            "colorscale": [
             [
              0,
              "#0d0887"
             ],
             [
              0.1111111111111111,
              "#46039f"
             ],
             [
              0.2222222222222222,
              "#7201a8"
             ],
             [
              0.3333333333333333,
              "#9c179e"
             ],
             [
              0.4444444444444444,
              "#bd3786"
             ],
             [
              0.5555555555555556,
              "#d8576b"
             ],
             [
              0.6666666666666666,
              "#ed7953"
             ],
             [
              0.7777777777777778,
              "#fb9f3a"
             ],
             [
              0.8888888888888888,
              "#fdca26"
             ],
             [
              1,
              "#f0f921"
             ]
            ],
            "type": "histogram2dcontour"
           }
          ],
          "mesh3d": [
           {
            "colorbar": {
             "outlinewidth": 0,
             "ticks": ""
            },
            "type": "mesh3d"
           }
          ],
          "parcoords": [
           {
            "line": {
             "colorbar": {
              "outlinewidth": 0,
              "ticks": ""
             }
            },
            "type": "parcoords"
           }
          ],
          "pie": [
           {
            "automargin": true,
            "type": "pie"
           }
          ],
          "scatter": [
           {
            "marker": {
             "line": {
              "color": "#283442"
             }
            },
            "type": "scatter"
           }
          ],
          "scatter3d": [
           {
            "line": {
             "colorbar": {
              "outlinewidth": 0,
              "ticks": ""
             }
            },
            "marker": {
             "colorbar": {
              "outlinewidth": 0,
              "ticks": ""
             }
            },
            "type": "scatter3d"
           }
          ],
          "scattercarpet": [
           {
            "marker": {
             "colorbar": {
              "outlinewidth": 0,
              "ticks": ""
             }
            },
            "type": "scattercarpet"
           }
          ],
          "scattergeo": [
           {
            "marker": {
             "colorbar": {
              "outlinewidth": 0,
              "ticks": ""
             }
            },
            "type": "scattergeo"
           }
          ],
          "scattergl": [
           {
            "marker": {
             "line": {
              "color": "#283442"
             }
            },
            "type": "scattergl"
           }
          ],
          "scattermap": [
           {
            "marker": {
             "colorbar": {
              "outlinewidth": 0,
              "ticks": ""
             }
            },
            "type": "scattermap"
           }
          ],
          "scattermapbox": [
           {
            "marker": {
             "colorbar": {
              "outlinewidth": 0,
              "ticks": ""
             }
            },
            "type": "scattermapbox"
           }
          ],
          "scatterpolar": [
           {
            "marker": {
             "colorbar": {
              "outlinewidth": 0,
              "ticks": ""
             }
            },
            "type": "scatterpolar"
           }
          ],
          "scatterpolargl": [
           {
            "marker": {
             "colorbar": {
              "outlinewidth": 0,
              "ticks": ""
             }
            },
            "type": "scatterpolargl"
           }
          ],
          "scatterternary": [
           {
            "marker": {
             "colorbar": {
              "outlinewidth": 0,
              "ticks": ""
             }
            },
            "type": "scatterternary"
           }
          ],
          "surface": [
           {
            "colorbar": {
             "outlinewidth": 0,
             "ticks": ""
            },
            "colorscale": [
             [
              0,
              "#0d0887"
             ],
             [
              0.1111111111111111,
              "#46039f"
             ],
             [
              0.2222222222222222,
              "#7201a8"
             ],
             [
              0.3333333333333333,
              "#9c179e"
             ],
             [
              0.4444444444444444,
              "#bd3786"
             ],
             [
              0.5555555555555556,
              "#d8576b"
             ],
             [
              0.6666666666666666,
              "#ed7953"
             ],
             [
              0.7777777777777778,
              "#fb9f3a"
             ],
             [
              0.8888888888888888,
              "#fdca26"
             ],
             [
              1,
              "#f0f921"
             ]
            ],
            "type": "surface"
           }
          ],
          "table": [
           {
            "cells": {
             "fill": {
              "color": "#506784"
             },
             "line": {
              "color": "rgb(17,17,17)"
             }
            },
            "header": {
             "fill": {
              "color": "#2a3f5f"
             },
             "line": {
              "color": "rgb(17,17,17)"
             }
            },
            "type": "table"
           }
          ]
         },
         "layout": {
          "annotationdefaults": {
           "arrowcolor": "#f2f5fa",
           "arrowhead": 0,
           "arrowwidth": 1
          },
          "autotypenumbers": "strict",
          "coloraxis": {
           "colorbar": {
            "outlinewidth": 0,
            "ticks": ""
           }
          },
          "colorscale": {
           "diverging": [
            [
             0,
             "#8e0152"
            ],
            [
             0.1,
             "#c51b7d"
            ],
            [
             0.2,
             "#de77ae"
            ],
            [
             0.3,
             "#f1b6da"
            ],
            [
             0.4,
             "#fde0ef"
            ],
            [
             0.5,
             "#f7f7f7"
            ],
            [
             0.6,
             "#e6f5d0"
            ],
            [
             0.7,
             "#b8e186"
            ],
            [
             0.8,
             "#7fbc41"
            ],
            [
             0.9,
             "#4d9221"
            ],
            [
             1,
             "#276419"
            ]
           ],
           "sequential": [
            [
             0,
             "#0d0887"
            ],
            [
             0.1111111111111111,
             "#46039f"
            ],
            [
             0.2222222222222222,
             "#7201a8"
            ],
            [
             0.3333333333333333,
             "#9c179e"
            ],
            [
             0.4444444444444444,
             "#bd3786"
            ],
            [
             0.5555555555555556,
             "#d8576b"
            ],
            [
             0.6666666666666666,
             "#ed7953"
            ],
            [
             0.7777777777777778,
             "#fb9f3a"
            ],
            [
             0.8888888888888888,
             "#fdca26"
            ],
            [
             1,
             "#f0f921"
            ]
           ],
           "sequentialminus": [
            [
             0,
             "#0d0887"
            ],
            [
             0.1111111111111111,
             "#46039f"
            ],
            [
             0.2222222222222222,
             "#7201a8"
            ],
            [
             0.3333333333333333,
             "#9c179e"
            ],
            [
             0.4444444444444444,
             "#bd3786"
            ],
            [
             0.5555555555555556,
             "#d8576b"
            ],
            [
             0.6666666666666666,
             "#ed7953"
            ],
            [
             0.7777777777777778,
             "#fb9f3a"
            ],
            [
             0.8888888888888888,
             "#fdca26"
            ],
            [
             1,
             "#f0f921"
            ]
           ]
          },
          "colorway": [
           "#636efa",
           "#EF553B",
           "#00cc96",
           "#ab63fa",
           "#FFA15A",
           "#19d3f3",
           "#FF6692",
           "#B6E880",
           "#FF97FF",
           "#FECB52"
          ],
          "font": {
           "color": "#f2f5fa"
          },
          "geo": {
           "bgcolor": "rgb(17,17,17)",
           "lakecolor": "rgb(17,17,17)",
           "landcolor": "rgb(17,17,17)",
           "showlakes": true,
           "showland": true,
           "subunitcolor": "#506784"
          },
          "hoverlabel": {
           "align": "left"
          },
          "hovermode": "closest",
          "mapbox": {
           "style": "dark"
          },
          "paper_bgcolor": "rgb(17,17,17)",
          "plot_bgcolor": "rgb(17,17,17)",
          "polar": {
           "angularaxis": {
            "gridcolor": "#506784",
            "linecolor": "#506784",
            "ticks": ""
           },
           "bgcolor": "rgb(17,17,17)",
           "radialaxis": {
            "gridcolor": "#506784",
            "linecolor": "#506784",
            "ticks": ""
           }
          },
          "scene": {
           "xaxis": {
            "backgroundcolor": "rgb(17,17,17)",
            "gridcolor": "#506784",
            "gridwidth": 2,
            "linecolor": "#506784",
            "showbackground": true,
            "ticks": "",
            "zerolinecolor": "#C8D4E3"
           },
           "yaxis": {
            "backgroundcolor": "rgb(17,17,17)",
            "gridcolor": "#506784",
            "gridwidth": 2,
            "linecolor": "#506784",
            "showbackground": true,
            "ticks": "",
            "zerolinecolor": "#C8D4E3"
           },
           "zaxis": {
            "backgroundcolor": "rgb(17,17,17)",
            "gridcolor": "#506784",
            "gridwidth": 2,
            "linecolor": "#506784",
            "showbackground": true,
            "ticks": "",
            "zerolinecolor": "#C8D4E3"
           }
          },
          "shapedefaults": {
           "line": {
            "color": "#f2f5fa"
           }
          },
          "sliderdefaults": {
           "bgcolor": "#C8D4E3",
           "bordercolor": "rgb(17,17,17)",
           "borderwidth": 1,
           "tickwidth": 0
          },
          "ternary": {
           "aaxis": {
            "gridcolor": "#506784",
            "linecolor": "#506784",
            "ticks": ""
           },
           "baxis": {
            "gridcolor": "#506784",
            "linecolor": "#506784",
            "ticks": ""
           },
           "bgcolor": "rgb(17,17,17)",
           "caxis": {
            "gridcolor": "#506784",
            "linecolor": "#506784",
            "ticks": ""
           }
          },
          "title": {
           "x": 0.05
          },
          "updatemenudefaults": {
           "bgcolor": "#506784",
           "borderwidth": 0
          },
          "xaxis": {
           "automargin": true,
           "gridcolor": "#283442",
           "linecolor": "#506784",
           "ticks": "",
           "title": {
            "standoff": 15
           },
           "zerolinecolor": "#283442",
           "zerolinewidth": 2
          },
          "yaxis": {
           "automargin": true,
           "gridcolor": "#283442",
           "linecolor": "#506784",
           "ticks": "",
           "title": {
            "standoff": 15
           },
           "zerolinecolor": "#283442",
           "zerolinewidth": 2
          }
         }
        },
        "title": {
         "text": "Ad Clicks: Daily Time Spent vs Age"
        },
        "width": 800,
        "xaxis": {
         "anchor": "y",
         "domain": [
          0,
          1
         ],
         "title": {
          "text": "Daily Time Spent on Site"
         }
        },
        "yaxis": {
         "anchor": "x",
         "domain": [
          0,
          1
         ],
         "title": {
          "text": "Daily Internet Usage"
         }
        }
       }
      }
     },
     "metadata": {},
     "output_type": "display_data"
    }
   ],
   "source": [
    "px.scatter(\n",
    "    df,\n",
    "    x=\"Daily Time Spent on Site\",\n",
    "    y=\"Daily Internet Usage\",\n",
    "    color=\"Clicked on Ad\",\n",
    "    symbol=\"Clicked on Ad\",\n",
    "    title=\"Ad Clicks: Daily Time Spent vs Age\",\n",
    "    color_continuous_scale=[\"blue\", \"white\"],\n",
    "    height=800,\n",
    "    width=800,\n",
    ")"
   ]
  },
  {
   "cell_type": "code",
   "execution_count": null,
   "id": "c9874c7c",
   "metadata": {},
   "outputs": [],
   "source": []
  }
 ],
 "metadata": {
  "kernelspec": {
   "display_name": "venv",
   "language": "python",
   "name": "python3"
  },
  "language_info": {
   "codemirror_mode": {
    "name": "ipython",
    "version": 3
   },
   "file_extension": ".py",
   "mimetype": "text/x-python",
   "name": "python",
   "nbconvert_exporter": "python",
   "pygments_lexer": "ipython3",
   "version": "3.11.4"
  }
 },
 "nbformat": 4,
 "nbformat_minor": 5
}
